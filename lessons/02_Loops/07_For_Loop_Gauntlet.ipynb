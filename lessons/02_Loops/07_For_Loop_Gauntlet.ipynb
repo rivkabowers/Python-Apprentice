{
 "cells": [
  {
   "cell_type": "markdown",
   "id": "539e9340",
   "metadata": {},
   "source": [
    "# For Loop Gauntlet\n",
    "\n",
    "The goal of this assignment is to make you a master of utilizing for loops.\n",
    "Complete all the for loop challenges on the paper. please read each challenge\n",
    "carefully and make sure that your for loops display exactly what is asked. If\n",
    "you finish them all, try the bonus challenge.\n",
    "\n",
    "## Single for-loops\n",
    "\n",
    "Write a for loop to do each the following\n"
   ]
  },
  {
   "cell_type": "markdown",
   "id": "d0b568dc",
   "metadata": {
    "lines_to_next_cell": 0
   },
   "source": [
    "Display all numbers from 0 to 100  "
   ]
  },
  {
   "cell_type": "code",
   "execution_count": 29,
   "id": "d0752dd4",
   "metadata": {
    "title": "[python]"
   },
   "outputs": [
    {
     "name": "stdout",
     "output_type": "stream",
     "text": [
      "0\n",
      "1\n",
      "2\n",
      "3\n",
      "4\n",
      "5\n",
      "6\n",
      "7\n",
      "8\n",
      "9\n",
      "10\n",
      "11\n",
      "12\n",
      "13\n",
      "14\n",
      "15\n",
      "16\n",
      "17\n",
      "18\n",
      "19\n",
      "20\n",
      "21\n",
      "22\n",
      "23\n",
      "24\n",
      "25\n",
      "26\n",
      "27\n",
      "28\n",
      "29\n",
      "30\n",
      "31\n",
      "32\n",
      "33\n",
      "34\n",
      "35\n",
      "36\n",
      "37\n",
      "38\n",
      "39\n",
      "40\n",
      "41\n",
      "42\n",
      "43\n",
      "44\n",
      "45\n",
      "46\n",
      "47\n",
      "48\n",
      "49\n",
      "50\n",
      "51\n",
      "52\n",
      "53\n",
      "54\n",
      "55\n",
      "56\n",
      "57\n",
      "58\n",
      "59\n",
      "60\n",
      "61\n",
      "62\n",
      "63\n",
      "64\n",
      "65\n",
      "66\n",
      "67\n",
      "68\n",
      "69\n",
      "70\n",
      "71\n",
      "72\n",
      "73\n",
      "74\n",
      "75\n",
      "76\n",
      "77\n",
      "78\n",
      "79\n",
      "80\n",
      "81\n",
      "82\n",
      "83\n",
      "84\n",
      "85\n",
      "86\n",
      "87\n",
      "88\n",
      "89\n",
      "90\n",
      "91\n",
      "92\n",
      "93\n",
      "94\n",
      "95\n",
      "96\n",
      "97\n",
      "98\n",
      "99\n",
      "100\n"
     ]
    }
   ],
   "source": [
    "# Display all numbers from 0 to 100 \n",
    "\n",
    "for i in range (0, 101):\n",
    "    print(i)"
   ]
  },
  {
   "cell_type": "markdown",
   "id": "8b92e611",
   "metadata": {
    "lines_to_next_cell": 0
   },
   "source": [
    "Display all numbers from 100 to 0  "
   ]
  },
  {
   "cell_type": "code",
   "execution_count": 64,
   "id": "aec8cf23",
   "metadata": {
    "title": "[python]"
   },
   "outputs": [],
   "source": [
    "# Display all numbers from 100 to 0 \n",
    "\n",
    "for i in range (101,0):\n",
    "    print(i)"
   ]
  },
  {
   "cell_type": "markdown",
   "id": "8942605e",
   "metadata": {
    "lines_to_next_cell": 0
   },
   "source": [
    "Display all even numbers from 2 to 100  "
   ]
  },
  {
   "cell_type": "code",
   "execution_count": 51,
   "id": "ed3d8616",
   "metadata": {
    "lines_to_next_cell": 0,
    "title": "[python]"
   },
   "outputs": [
    {
     "name": "stdout",
     "output_type": "stream",
     "text": [
      "0\n",
      "2\n",
      "4\n",
      "6\n",
      "8\n",
      "10\n",
      "12\n",
      "14\n",
      "16\n",
      "18\n",
      "20\n",
      "22\n",
      "24\n",
      "26\n",
      "28\n",
      "30\n",
      "32\n",
      "34\n",
      "36\n",
      "38\n",
      "40\n",
      "42\n",
      "44\n",
      "46\n",
      "48\n",
      "50\n",
      "52\n",
      "54\n",
      "56\n",
      "58\n",
      "60\n",
      "62\n",
      "64\n",
      "66\n",
      "68\n",
      "70\n",
      "72\n",
      "74\n",
      "76\n",
      "78\n",
      "80\n",
      "82\n",
      "84\n",
      "86\n",
      "88\n",
      "90\n",
      "92\n",
      "94\n",
      "96\n",
      "98\n",
      "100\n"
     ]
    }
   ],
   "source": [
    "# Display all even numbers from 2 to 100  \n",
    "\n",
    "for i in range (0, 101, 2):\n",
    "    print(i)"
   ]
  },
  {
   "cell_type": "markdown",
   "id": "c3501380",
   "metadata": {
    "lines_to_next_cell": 0
   },
   "source": [
    "Display all odd numbers from 1 to 99  "
   ]
  },
  {
   "cell_type": "code",
   "execution_count": 52,
   "id": "038f48bf",
   "metadata": {
    "lines_to_next_cell": 0,
    "title": "[python]"
   },
   "outputs": [
    {
     "name": "stdout",
     "output_type": "stream",
     "text": [
      "1\n",
      "3\n",
      "5\n",
      "7\n",
      "9\n",
      "11\n",
      "13\n",
      "15\n",
      "17\n",
      "19\n",
      "21\n",
      "23\n",
      "25\n",
      "27\n",
      "29\n",
      "31\n",
      "33\n",
      "35\n",
      "37\n",
      "39\n",
      "41\n",
      "43\n",
      "45\n",
      "47\n",
      "49\n",
      "51\n",
      "53\n",
      "55\n",
      "57\n",
      "59\n",
      "61\n",
      "63\n",
      "65\n",
      "67\n",
      "69\n",
      "71\n",
      "73\n",
      "75\n",
      "77\n",
      "79\n",
      "81\n",
      "83\n",
      "85\n",
      "87\n",
      "89\n",
      "91\n",
      "93\n",
      "95\n",
      "97\n",
      "99\n"
     ]
    }
   ],
   "source": [
    "# Display all odd numbers from 1 to 99  \n",
    "\n",
    "for i in range (1, 100, 2):\n",
    "    print(i)\n"
   ]
  },
  {
   "cell_type": "markdown",
   "id": "f750c8e2",
   "metadata": {
    "lines_to_next_cell": 0
   },
   "source": [
    "Display all numbers from 1 to 40. if the number is odd, print \"odd\" next to the number. if the number is even, print \"even\" next to the number.  \n",
    "eg:  \n",
    " 1 is odd  \n",
    " 2 is even  \n",
    " 3 is odd  \n",
    " 4 is even  \n",
    " 5 is odd...etc.  \n",
    "\n"
   ]
  },
  {
   "cell_type": "code",
   "execution_count": 97,
   "id": "174bdcd9",
   "metadata": {},
   "outputs": [
    {
     "name": "stdout",
     "output_type": "stream",
     "text": [
      "1 is odd\n",
      "2 is even\n",
      "3 is odd\n",
      "4 is even\n",
      "5 is odd\n",
      "6 is even\n",
      "7 is odd\n",
      "8 is even\n",
      "9 is odd\n",
      "10 is even\n",
      "11 is odd\n",
      "12 is even\n",
      "13 is odd\n",
      "14 is even\n",
      "15 is odd\n",
      "16 is even\n",
      "17 is odd\n",
      "18 is even\n",
      "19 is odd\n",
      "20 is even\n",
      "21 is odd\n",
      "22 is even\n",
      "23 is odd\n",
      "24 is even\n",
      "25 is odd\n",
      "26 is even\n",
      "27 is odd\n",
      "28 is even\n",
      "29 is odd\n",
      "30 is even\n",
      "31 is odd\n",
      "32 is even\n",
      "33 is odd\n",
      "34 is even\n",
      "35 is odd\n",
      "36 is even\n",
      "37 is odd\n",
      "38 is even\n",
      "39 is odd\n",
      "40 is even\n",
      "41 is odd\n",
      "42 is even\n",
      "43 is odd\n",
      "44 is even\n",
      "45 is odd\n",
      "46 is even\n",
      "47 is odd\n",
      "48 is even\n",
      "49 is odd\n",
      "50 is even\n",
      "51 is odd\n",
      "52 is even\n",
      "53 is odd\n",
      "54 is even\n",
      "55 is odd\n",
      "56 is even\n",
      "57 is odd\n",
      "58 is even\n",
      "59 is odd\n",
      "60 is even\n",
      "61 is odd\n",
      "62 is even\n",
      "63 is odd\n",
      "64 is even\n",
      "65 is odd\n",
      "66 is even\n",
      "67 is odd\n",
      "68 is even\n",
      "69 is odd\n",
      "70 is even\n",
      "71 is odd\n",
      "72 is even\n",
      "73 is odd\n",
      "74 is even\n",
      "75 is odd\n",
      "76 is even\n",
      "77 is odd\n",
      "78 is even\n",
      "79 is odd\n",
      "80 is even\n",
      "81 is odd\n",
      "82 is even\n",
      "83 is odd\n",
      "84 is even\n",
      "85 is odd\n",
      "86 is even\n",
      "87 is odd\n",
      "88 is even\n",
      "89 is odd\n",
      "90 is even\n",
      "91 is odd\n",
      "92 is even\n",
      "93 is odd\n",
      "94 is even\n",
      "95 is odd\n",
      "96 is even\n",
      "97 is odd\n",
      "98 is even\n",
      "99 is odd\n",
      "100 is even\n"
     ]
    }
   ],
   "source": [
    "# Display all numbers from 1 to 500.\n",
    "\n",
    "for i in range (1, 101):\n",
    "   \n",
    "    if i % 2 == 0:\n",
    "        print((i), 'is even')\n",
    "\n",
    "    elif i % 1 == 0:\n",
    "        print((i), 'is odd')\n",
    "\n",
    "    else:\n",
    "        print(i)"
   ]
  },
  {
   "cell_type": "markdown",
   "id": "969e00f1",
   "metadata": {},
   "source": [
    "Display all multiples of 7 from 0 to 70"
   ]
  },
  {
   "cell_type": "code",
   "execution_count": 85,
   "id": "620b3886",
   "metadata": {
    "lines_to_next_cell": 0,
    "title": "[python]"
   },
   "outputs": [
    {
     "name": "stdout",
     "output_type": "stream",
     "text": [
      "0\n",
      "7\n",
      "14\n",
      "21\n",
      "28\n",
      "35\n",
      "42\n",
      "49\n",
      "56\n",
      "63\n",
      "70\n",
      "77\n",
      "84\n",
      "91\n",
      "98\n",
      "105\n",
      "112\n",
      "119\n",
      "126\n",
      "133\n",
      "140\n",
      "147\n",
      "154\n",
      "161\n",
      "168\n",
      "175\n",
      "182\n",
      "189\n",
      "196\n",
      "203\n",
      "210\n",
      "217\n",
      "224\n",
      "231\n",
      "238\n",
      "245\n",
      "252\n",
      "259\n",
      "266\n",
      "273\n",
      "280\n",
      "287\n",
      "294\n",
      "301\n",
      "308\n",
      "315\n",
      "322\n",
      "329\n",
      "336\n",
      "343\n",
      "350\n",
      "357\n",
      "364\n",
      "371\n",
      "378\n",
      "385\n",
      "392\n",
      "399\n",
      "406\n",
      "413\n",
      "420\n",
      "427\n",
      "434\n",
      "441\n",
      "448\n",
      "455\n",
      "462\n",
      "469\n",
      "476\n",
      "483\n",
      "490\n",
      "497\n",
      "504\n",
      "511\n",
      "518\n",
      "525\n",
      "532\n",
      "539\n",
      "546\n",
      "553\n",
      "560\n",
      "567\n",
      "574\n",
      "581\n",
      "588\n",
      "595\n",
      "602\n",
      "609\n",
      "616\n",
      "623\n",
      "630\n",
      "637\n",
      "644\n",
      "651\n",
      "658\n",
      "665\n",
      "672\n",
      "679\n",
      "686\n",
      "693\n",
      "700\n",
      "707\n",
      "714\n",
      "721\n",
      "728\n",
      "735\n",
      "742\n",
      "749\n",
      "756\n",
      "763\n",
      "770\n",
      "777\n"
     ]
    }
   ],
   "source": [
    "# Display all multiples of 7 from 0 to 777\n",
    "\n",
    "for i in range (0, 778, 7):\n",
    "    print(i)"
   ]
  },
  {
   "cell_type": "markdown",
   "id": "b468e701",
   "metadata": {
    "lines_to_next_cell": 0
   },
   "source": [
    "Print all the years you were alive and how old you were in each. e.g. \"in 1979, i was 2 years old.\" (for a really old person)  "
   ]
  },
  {
   "cell_type": "code",
   "execution_count": 100,
   "id": "6db862fd",
   "metadata": {
    "lines_to_next_cell": 0,
    "title": "[python]"
   },
   "outputs": [
    {
     "name": "stdout",
     "output_type": "stream",
     "text": [
      "2012\n",
      "2014\n",
      "2016\n",
      "2018\n",
      "2020\n",
      "2022\n",
      "2024\n"
     ]
    }
   ],
   "source": [
    "# Your Code Here\n",
    "\n",
    "for i in range (2012, 2025):\n",
    "    \n",
    "    if i % 2 == 0:\n",
    "        print (i)\n"
   ]
  },
  {
   "cell_type": "markdown",
   "id": "571b7e8d",
   "metadata": {
    "lines_to_next_cell": 0
   },
   "source": [
    "## Nested for-loops\n",
    "\n",
    "Write nested for loops (a for loop inside another for loop). Here is an example of nested loops. "
   ]
  },
  {
   "cell_type": "code",
   "execution_count": 101,
   "id": "beb062f6",
   "metadata": {
    "lines_to_next_cell": 0,
    "title": "[python]"
   },
   "outputs": [
    {
     "name": "stdout",
     "output_type": "stream",
     "text": [
      "(0,0) (0,1) (0,2) (0,3) (0,4) (0,5) (0,6) (0,7) \n",
      "(1,0) (1,1) (1,2) (1,3) (1,4) (1,5) (1,6) (1,7) \n",
      "(2,0) (2,1) (2,2) (2,3) (2,4) (2,5) (2,6) (2,7) \n",
      "(3,0) (3,1) (3,2) (3,3) (3,4) (3,5) (3,6) (3,7) \n",
      "(4,0) (4,1) (4,2) (4,3) (4,4) (4,5) (4,6) (4,7) \n",
      "(5,0) (5,1) (5,2) (5,3) (5,4) (5,5) (5,6) (5,7) \n",
      "(6,0) (6,1) (6,2) (6,3) (6,4) (6,5) (6,6) (6,7) \n",
      "(7,0) (7,1) (7,2) (7,3) (7,4) (7,5) (7,6) (7,7) \n"
     ]
    }
   ],
   "source": [
    "# Examples of Nested Loops\n",
    "\n",
    "for i in range(8):\n",
    "    for j in range(8):\n",
    "        print(f\"({i},{j})\", end= ' ')\n",
    "    print()"
   ]
  },
  {
   "cell_type": "markdown",
   "id": "3605a476",
   "metadata": {
    "lines_to_next_cell": 0
   },
   "source": [
    "For your first nested loop, display this output:  \n",
    "\n",
    "```\n",
    "0  0  \n",
    "0  1  \n",
    "0  2  \n",
    "1  0  \n",
    "1  1  \n",
    "1  2  \n",
    "2  0  \n",
    "2  1  \n",
    "2  2\n",
    "```"
   ]
  },
  {
   "cell_type": "code",
   "execution_count": null,
   "id": "8c847ed3",
   "metadata": {
    "lines_to_next_cell": 0,
    "title": "[python]"
   },
   "outputs": [],
   "source": [
    "# Display the output shown above"
   ]
  },
  {
   "cell_type": "markdown",
   "id": "c6a9c592",
   "metadata": {
    "lines_to_next_cell": 0
   },
   "source": [
    "Display the numbers 1 through 9 in a 3x3 square grid like this:  \n",
    "\n",
    "```\n",
    "1  2  3  \n",
    "4  5  6  \n",
    "7  8  9  \n",
    "```"
   ]
  },
  {
   "cell_type": "code",
   "execution_count": null,
   "id": "bb0a4a5b",
   "metadata": {
    "lines_to_next_cell": 0,
    "title": "[python]"
   },
   "outputs": [],
   "source": [
    "# Display the numbers 1 through 9 in a 3x3 square grid"
   ]
  },
  {
   "cell_type": "markdown",
   "id": "3265fddb",
   "metadata": {
    "lines_to_next_cell": 0
   },
   "source": [
    "Display the numbers 1 through 100 in a 10x10 square grid.  "
   ]
  },
  {
   "cell_type": "code",
   "execution_count": null,
   "id": "ced82638",
   "metadata": {
    "lines_to_next_cell": 0,
    "title": "[python]"
   },
   "outputs": [],
   "source": [
    "# Display the numbers 1 through 100 in a 10x10 square grid. "
   ]
  },
  {
   "cell_type": "markdown",
   "id": "9434b500",
   "metadata": {
    "lines_to_next_cell": 2
   },
   "source": [
    "Display the following output:  \n",
    "\n",
    "```\n",
    "*  \n",
    "*  *  \n",
    "*  *  *  \n",
    "*  *  *  *  \n",
    "*  *  *  *  *  \n",
    "*  *  *  *  *  *\n",
    "```  "
   ]
  },
  {
   "cell_type": "code",
   "execution_count": null,
   "id": "3b81fd1e",
   "metadata": {},
   "outputs": [],
   "source": [
    "# Display the asterisk pattern shown above"
   ]
  },
  {
   "cell_type": "markdown",
   "id": "5a40192d",
   "metadata": {},
   "source": []
  }
 ],
 "metadata": {
  "jupytext": {
   "cell_metadata_filter": "title,-all",
   "main_language": "python",
   "notebook_metadata_filter": "-all"
  },
  "kernelspec": {
   "display_name": ".venv",
   "language": "python",
   "name": "python3"
  },
  "language_info": {
   "codemirror_mode": {
    "name": "ipython",
    "version": 3
   },
   "file_extension": ".py",
   "mimetype": "text/x-python",
   "name": "python",
   "nbconvert_exporter": "python",
   "pygments_lexer": "ipython3",
   "version": "3.12.4"
  }
 },
 "nbformat": 4,
 "nbformat_minor": 5
}
