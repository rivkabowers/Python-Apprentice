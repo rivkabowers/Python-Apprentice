{
 "cells": [
  {
   "cell_type": "code",
   "execution_count": 64,
   "metadata": {},
   "outputs": [
    {
     "ename": "AttributeError",
     "evalue": "'str' object has no attribute '_color'",
     "output_type": "error",
     "traceback": [
      "\u001b[0;31m---------------------------------------------------------------------------\u001b[0m",
      "\u001b[0;31mAttributeError\u001b[0m                            Traceback (most recent call last)",
      "Cell \u001b[0;32mIn[64], line 26\u001b[0m\n\u001b[1;32m     22\u001b[0m \u001b[38;5;66;03m# Zip the colors and directions together, then unpack them. There is a good example of this\u001b[39;00m\n\u001b[1;32m     23\u001b[0m \u001b[38;5;66;03m# in 10_More_iterables.ipynb in the discussion of zip()\u001b[39;00m\n\u001b[1;32m     25\u001b[0m \u001b[38;5;28;01mfor\u001b[39;00m color, (angle, distance) \u001b[38;5;129;01min\u001b[39;00m \u001b[38;5;28mzip\u001b[39m(colors, directions):\n\u001b[0;32m---> 26\u001b[0m     \u001b[43mt\u001b[49m\u001b[38;5;241;43m.\u001b[39;49m\u001b[43mcolor\u001b[49m\u001b[43m(\u001b[49m\u001b[43mcolor\u001b[49m\u001b[43m)\u001b[49m\n\u001b[1;32m     27\u001b[0m     t\u001b[38;5;241m.\u001b[39mforward(distance)\n\u001b[1;32m     28\u001b[0m     t\u001b[38;5;241m.\u001b[39mleft(angle)\n",
      "File \u001b[0;32m/usr/local/lib/python3.12/turtle.py:2219\u001b[0m, in \u001b[0;36mTPen.color\u001b[0;34m(self, *args)\u001b[0m\n\u001b[1;32m   2217\u001b[0m     \u001b[38;5;28mself\u001b[39m\u001b[38;5;241m.\u001b[39mpen(pencolor\u001b[38;5;241m=\u001b[39mpcolor, fillcolor\u001b[38;5;241m=\u001b[39mfcolor)\n\u001b[1;32m   2218\u001b[0m \u001b[38;5;28;01melse\u001b[39;00m:\n\u001b[0;32m-> 2219\u001b[0m     \u001b[38;5;28;01mreturn\u001b[39;00m \u001b[38;5;28;43mself\u001b[39;49m\u001b[38;5;241;43m.\u001b[39;49m\u001b[43m_color\u001b[49m(\u001b[38;5;28mself\u001b[39m\u001b[38;5;241m.\u001b[39m_pencolor), \u001b[38;5;28mself\u001b[39m\u001b[38;5;241m.\u001b[39m_color(\u001b[38;5;28mself\u001b[39m\u001b[38;5;241m.\u001b[39m_fillcolor)\n",
      "\u001b[0;31mAttributeError\u001b[0m: 'str' object has no attribute '_color'"
     ]
    }
   ],
   "source": [
    "\"\"\"\n",
    "Programmable turtle graphics\n",
    "\n",
    "Use what you've learned about lists, loop, cycle, slice and zip to draw a pattern\n",
    "\n",
    "\"\"\"\n",
    "import turtle\n",
    "\n",
    "t = turtle.Turtle # Create a turtle like in previous programs, like 04_Crazy_Tina.py\n",
    "\n",
    "colors = ['black', 'purple', 'red'] # Make a list of colors\n",
    "\n",
    "directions = [ # Create a list of directions and angles\n",
    "    (90, 20),\n",
    "    (150, 20),\n",
    "    (90, 20),\n",
    "    (150, 20),\n",
    "    (90, 20), \n",
    " ... # Add more\n",
    "]\n",
    "\n",
    "# Zip the colors and directions together, then unpack them. There is a good example of this\n",
    "# in 10_More_iterables.ipynb in the discussion of zip()\n",
    "\n",
    "for color, (angle, distance) in zip(colors, directions):\n",
    "    t.color(color)\n",
    "    t.forward(distance)\n",
    "    t.left(angle)\n",
    "\n",
    "turtle.exitonclick()\n",
    "# Don't forget the special way to end a turtle program. \n"
   ]
  }
 ],
 "metadata": {
  "kernelspec": {
   "display_name": "Python 3",
   "language": "python",
   "name": "python3"
  },
  "language_info": {
   "codemirror_mode": {
    "name": "ipython",
    "version": 3
   },
   "file_extension": ".py",
   "mimetype": "text/x-python",
   "name": "python",
   "nbconvert_exporter": "python",
   "pygments_lexer": "ipython3",
   "version": "3.12.4"
  }
 },
 "nbformat": 4,
 "nbformat_minor": 2
}
